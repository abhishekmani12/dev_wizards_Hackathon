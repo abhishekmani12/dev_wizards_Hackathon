{
  "nbformat": 4,
  "nbformat_minor": 0,
  "metadata": {
    "colab": {
      "name": "Untitled18.ipynb",
      "provenance": [],
      "authorship_tag": "ABX9TyMd+u9ETX8h8wSp2jLlnI0d",
      "include_colab_link": true
    },
    "kernelspec": {
      "name": "python3",
      "display_name": "Python 3"
    },
    "language_info": {
      "name": "python"
    }
  },
  "cells": [
    {
      "cell_type": "markdown",
      "metadata": {
        "id": "view-in-github",
        "colab_type": "text"
      },
      "source": [
        "<a href=\"https://colab.research.google.com/github/abhishekmani12/dev_wizards_Hackathon/blob/main/rice%20classification.ipynb\" target=\"_parent\"><img src=\"https://colab.research.google.com/assets/colab-badge.svg\" alt=\"Open In Colab\"/></a>"
      ]
    },
    {
      "cell_type": "markdown",
      "source": [
        "**IMPORTS:**"
      ],
      "metadata": {
        "id": "z216CecRXVFz"
      }
    },
    {
      "cell_type": "code",
      "execution_count": 6,
      "metadata": {
        "id": "GvyY7PNHdEhM",
        "colab": {
          "base_uri": "https://localhost:8080/"
        },
        "outputId": "83ce4a16-a3f8-4288-fe0e-6219183b7cd3"
      },
      "outputs": [
        {
          "output_type": "stream",
          "name": "stdout",
          "text": [
            "Looking in indexes: https://pypi.org/simple, https://us-python.pkg.dev/colab-wheels/public/simple/\n",
            "Requirement already satisfied: xgboost in /usr/local/lib/python3.7/dist-packages (0.90)\n",
            "Requirement already satisfied: scipy in /usr/local/lib/python3.7/dist-packages (from xgboost) (1.5.4)\n",
            "Requirement already satisfied: numpy in /usr/local/lib/python3.7/dist-packages (from xgboost) (1.21.6)\n",
            "Looking in indexes: https://pypi.org/simple, https://us-python.pkg.dev/colab-wheels/public/simple/\n",
            "Requirement already satisfied: kaggle in /usr/local/lib/python3.7/dist-packages (1.5.12)\n",
            "Requirement already satisfied: six>=1.10 in /usr/local/lib/python3.7/dist-packages (from kaggle) (1.15.0)\n",
            "Requirement already satisfied: tqdm in /usr/local/lib/python3.7/dist-packages (from kaggle) (4.64.0)\n",
            "Requirement already satisfied: python-slugify in /usr/local/lib/python3.7/dist-packages (from kaggle) (6.1.2)\n",
            "Requirement already satisfied: urllib3 in /usr/local/lib/python3.7/dist-packages (from kaggle) (1.24.3)\n",
            "Requirement already satisfied: python-dateutil in /usr/local/lib/python3.7/dist-packages (from kaggle) (2.8.2)\n",
            "Requirement already satisfied: certifi in /usr/local/lib/python3.7/dist-packages (from kaggle) (2022.6.15)\n",
            "Requirement already satisfied: requests in /usr/local/lib/python3.7/dist-packages (from kaggle) (2.23.0)\n",
            "Requirement already satisfied: text-unidecode>=1.3 in /usr/local/lib/python3.7/dist-packages (from python-slugify->kaggle) (1.3)\n",
            "Requirement already satisfied: idna<3,>=2.5 in /usr/local/lib/python3.7/dist-packages (from requests->kaggle) (2.10)\n",
            "Requirement already satisfied: chardet<4,>=3.0.2 in /usr/local/lib/python3.7/dist-packages (from requests->kaggle) (3.0.4)\n"
          ]
        }
      ],
      "source": [
        "import pandas as pd\n",
        "import numpy as np\n",
        "import sklearn\n",
        "!pip install xgboost\n",
        "!pip install kaggle"
      ]
    },
    {
      "cell_type": "code",
      "source": [
        "import matplotlib.pyplot as plt\n",
        "import seaborn as sns\n",
        "from sklearn.metrics import accuracy_score\n",
        "from sklearn.preprocessing import StandardScaler"
      ],
      "metadata": {
        "id": "UxsK_eSoWtdX"
      },
      "execution_count": 76,
      "outputs": []
    },
    {
      "cell_type": "code",
      "source": [
        "! mkdir ~/.kaggle\n",
        "! cp kaggle.json ~/.kaggle/\n",
        "! chmod 600 ~/.kaggle/kaggle.json"
      ],
      "metadata": {
        "id": "W2IHs3dZT_3N"
      },
      "execution_count": 2,
      "outputs": []
    },
    {
      "cell_type": "code",
      "source": [
        "! kaggle datasets download mssmartypants/rice-type-classification"
      ],
      "metadata": {
        "colab": {
          "base_uri": "https://localhost:8080/"
        },
        "id": "ueQl75I2ULg3",
        "outputId": "7c7b51eb-2147-4424-928d-d17bdaa7449b"
      },
      "execution_count": 3,
      "outputs": [
        {
          "output_type": "stream",
          "name": "stdout",
          "text": [
            "Downloading rice-type-classification.zip to /content\n",
            "\r  0% 0.00/888k [00:00<?, ?B/s]\n",
            "\r100% 888k/888k [00:00<00:00, 114MB/s]\n"
          ]
        }
      ]
    },
    {
      "cell_type": "code",
      "source": [
        ""
      ],
      "metadata": {
        "id": "gn7ndCopT_6o"
      },
      "execution_count": null,
      "outputs": []
    },
    {
      "cell_type": "code",
      "source": [
        "from zipfile import ZipFile\n",
        "zip = ZipFile('/content/rice-type-classification.zip')\n",
        "zip.extractall()"
      ],
      "metadata": {
        "id": "MHDGAU6dVIeO"
      },
      "execution_count": 5,
      "outputs": []
    },
    {
      "cell_type": "code",
      "source": [
        "df=pd.read_csv(\"/content/riceClassification.csv\")"
      ],
      "metadata": {
        "id": "GUcOQq-6T_9q"
      },
      "execution_count": 83,
      "outputs": []
    },
    {
      "cell_type": "markdown",
      "source": [
        "**EDA:**"
      ],
      "metadata": {
        "id": "mVeJv5_1XQ69"
      }
    },
    {
      "cell_type": "code",
      "source": [
        "df.info()"
      ],
      "metadata": {
        "colab": {
          "base_uri": "https://localhost:8080/"
        },
        "id": "Qbxonge9UAAk",
        "outputId": "48237613-9db8-4be8-946e-4080e6582946"
      },
      "execution_count": 8,
      "outputs": [
        {
          "output_type": "stream",
          "name": "stdout",
          "text": [
            "<class 'pandas.core.frame.DataFrame'>\n",
            "RangeIndex: 18185 entries, 0 to 18184\n",
            "Data columns (total 12 columns):\n",
            " #   Column           Non-Null Count  Dtype  \n",
            "---  ------           --------------  -----  \n",
            " 0   id               18185 non-null  int64  \n",
            " 1   Area             18185 non-null  int64  \n",
            " 2   MajorAxisLength  18185 non-null  float64\n",
            " 3   MinorAxisLength  18185 non-null  float64\n",
            " 4   Eccentricity     18185 non-null  float64\n",
            " 5   ConvexArea       18185 non-null  int64  \n",
            " 6   EquivDiameter    18185 non-null  float64\n",
            " 7   Extent           18185 non-null  float64\n",
            " 8   Perimeter        18185 non-null  float64\n",
            " 9   Roundness        18185 non-null  float64\n",
            " 10  AspectRation     18185 non-null  float64\n",
            " 11  Class            18185 non-null  int64  \n",
            "dtypes: float64(8), int64(4)\n",
            "memory usage: 1.7 MB\n"
          ]
        }
      ]
    },
    {
      "cell_type": "code",
      "source": [
        "df"
      ],
      "metadata": {
        "colab": {
          "base_uri": "https://localhost:8080/",
          "height": 424
        },
        "id": "8XIVBjHeUADz",
        "outputId": "20c52935-070e-455e-935c-10f2a221a15a"
      },
      "execution_count": 9,
      "outputs": [
        {
          "output_type": "execute_result",
          "data": {
            "text/plain": [
              "          id  Area  MajorAxisLength  MinorAxisLength  Eccentricity  \\\n",
              "0          1  4537        92.229316        64.012769      0.719916   \n",
              "1          2  2872        74.691881        51.400454      0.725553   \n",
              "2          3  3048        76.293164        52.043491      0.731211   \n",
              "3          4  3073        77.033628        51.928487      0.738639   \n",
              "4          5  3693        85.124785        56.374021      0.749282   \n",
              "...      ...   ...              ...              ...           ...   \n",
              "18180  18181  5853       148.624571        51.029281      0.939210   \n",
              "18181  18182  7585       169.593996        58.141659      0.939398   \n",
              "18182  18183  6365       154.777085        52.908085      0.939760   \n",
              "18183  18184  5960       151.397924        51.474600      0.940427   \n",
              "18184  18185  6134       153.081981        51.590606      0.941500   \n",
              "\n",
              "       ConvexArea  EquivDiameter    Extent  Perimeter  Roundness  \\\n",
              "0            4677      76.004525  0.657536    273.085   0.764510   \n",
              "1            3015      60.471018  0.713009    208.317   0.831658   \n",
              "2            3132      62.296341  0.759153    210.012   0.868434   \n",
              "3            3157      62.551300  0.783529    210.657   0.870203   \n",
              "4            3802      68.571668  0.769375    230.332   0.874743   \n",
              "...           ...            ...       ...        ...        ...   \n",
              "18180        6008      86.326537  0.498594    332.960   0.663444   \n",
              "18181        7806      98.272692  0.647461    385.506   0.641362   \n",
              "18182        6531      90.023162  0.561287    342.253   0.682832   \n",
              "18183        6189      87.112041  0.492399    343.371   0.635227   \n",
              "18184        6283      88.374495  0.489975    338.613   0.672274   \n",
              "\n",
              "       AspectRation  Class  \n",
              "0          1.440796      1  \n",
              "1          1.453137      1  \n",
              "2          1.465950      1  \n",
              "3          1.483456      1  \n",
              "4          1.510000      1  \n",
              "...             ...    ...  \n",
              "18180      2.912535      0  \n",
              "18181      2.916910      0  \n",
              "18182      2.925396      0  \n",
              "18183      2.941216      0  \n",
              "18184      2.967245      0  \n",
              "\n",
              "[18185 rows x 12 columns]"
            ],
            "text/html": [
              "\n",
              "  <div id=\"df-1f6d23cb-0295-4b00-84c2-2f6b630f5e9a\">\n",
              "    <div class=\"colab-df-container\">\n",
              "      <div>\n",
              "<style scoped>\n",
              "    .dataframe tbody tr th:only-of-type {\n",
              "        vertical-align: middle;\n",
              "    }\n",
              "\n",
              "    .dataframe tbody tr th {\n",
              "        vertical-align: top;\n",
              "    }\n",
              "\n",
              "    .dataframe thead th {\n",
              "        text-align: right;\n",
              "    }\n",
              "</style>\n",
              "<table border=\"1\" class=\"dataframe\">\n",
              "  <thead>\n",
              "    <tr style=\"text-align: right;\">\n",
              "      <th></th>\n",
              "      <th>id</th>\n",
              "      <th>Area</th>\n",
              "      <th>MajorAxisLength</th>\n",
              "      <th>MinorAxisLength</th>\n",
              "      <th>Eccentricity</th>\n",
              "      <th>ConvexArea</th>\n",
              "      <th>EquivDiameter</th>\n",
              "      <th>Extent</th>\n",
              "      <th>Perimeter</th>\n",
              "      <th>Roundness</th>\n",
              "      <th>AspectRation</th>\n",
              "      <th>Class</th>\n",
              "    </tr>\n",
              "  </thead>\n",
              "  <tbody>\n",
              "    <tr>\n",
              "      <th>0</th>\n",
              "      <td>1</td>\n",
              "      <td>4537</td>\n",
              "      <td>92.229316</td>\n",
              "      <td>64.012769</td>\n",
              "      <td>0.719916</td>\n",
              "      <td>4677</td>\n",
              "      <td>76.004525</td>\n",
              "      <td>0.657536</td>\n",
              "      <td>273.085</td>\n",
              "      <td>0.764510</td>\n",
              "      <td>1.440796</td>\n",
              "      <td>1</td>\n",
              "    </tr>\n",
              "    <tr>\n",
              "      <th>1</th>\n",
              "      <td>2</td>\n",
              "      <td>2872</td>\n",
              "      <td>74.691881</td>\n",
              "      <td>51.400454</td>\n",
              "      <td>0.725553</td>\n",
              "      <td>3015</td>\n",
              "      <td>60.471018</td>\n",
              "      <td>0.713009</td>\n",
              "      <td>208.317</td>\n",
              "      <td>0.831658</td>\n",
              "      <td>1.453137</td>\n",
              "      <td>1</td>\n",
              "    </tr>\n",
              "    <tr>\n",
              "      <th>2</th>\n",
              "      <td>3</td>\n",
              "      <td>3048</td>\n",
              "      <td>76.293164</td>\n",
              "      <td>52.043491</td>\n",
              "      <td>0.731211</td>\n",
              "      <td>3132</td>\n",
              "      <td>62.296341</td>\n",
              "      <td>0.759153</td>\n",
              "      <td>210.012</td>\n",
              "      <td>0.868434</td>\n",
              "      <td>1.465950</td>\n",
              "      <td>1</td>\n",
              "    </tr>\n",
              "    <tr>\n",
              "      <th>3</th>\n",
              "      <td>4</td>\n",
              "      <td>3073</td>\n",
              "      <td>77.033628</td>\n",
              "      <td>51.928487</td>\n",
              "      <td>0.738639</td>\n",
              "      <td>3157</td>\n",
              "      <td>62.551300</td>\n",
              "      <td>0.783529</td>\n",
              "      <td>210.657</td>\n",
              "      <td>0.870203</td>\n",
              "      <td>1.483456</td>\n",
              "      <td>1</td>\n",
              "    </tr>\n",
              "    <tr>\n",
              "      <th>4</th>\n",
              "      <td>5</td>\n",
              "      <td>3693</td>\n",
              "      <td>85.124785</td>\n",
              "      <td>56.374021</td>\n",
              "      <td>0.749282</td>\n",
              "      <td>3802</td>\n",
              "      <td>68.571668</td>\n",
              "      <td>0.769375</td>\n",
              "      <td>230.332</td>\n",
              "      <td>0.874743</td>\n",
              "      <td>1.510000</td>\n",
              "      <td>1</td>\n",
              "    </tr>\n",
              "    <tr>\n",
              "      <th>...</th>\n",
              "      <td>...</td>\n",
              "      <td>...</td>\n",
              "      <td>...</td>\n",
              "      <td>...</td>\n",
              "      <td>...</td>\n",
              "      <td>...</td>\n",
              "      <td>...</td>\n",
              "      <td>...</td>\n",
              "      <td>...</td>\n",
              "      <td>...</td>\n",
              "      <td>...</td>\n",
              "      <td>...</td>\n",
              "    </tr>\n",
              "    <tr>\n",
              "      <th>18180</th>\n",
              "      <td>18181</td>\n",
              "      <td>5853</td>\n",
              "      <td>148.624571</td>\n",
              "      <td>51.029281</td>\n",
              "      <td>0.939210</td>\n",
              "      <td>6008</td>\n",
              "      <td>86.326537</td>\n",
              "      <td>0.498594</td>\n",
              "      <td>332.960</td>\n",
              "      <td>0.663444</td>\n",
              "      <td>2.912535</td>\n",
              "      <td>0</td>\n",
              "    </tr>\n",
              "    <tr>\n",
              "      <th>18181</th>\n",
              "      <td>18182</td>\n",
              "      <td>7585</td>\n",
              "      <td>169.593996</td>\n",
              "      <td>58.141659</td>\n",
              "      <td>0.939398</td>\n",
              "      <td>7806</td>\n",
              "      <td>98.272692</td>\n",
              "      <td>0.647461</td>\n",
              "      <td>385.506</td>\n",
              "      <td>0.641362</td>\n",
              "      <td>2.916910</td>\n",
              "      <td>0</td>\n",
              "    </tr>\n",
              "    <tr>\n",
              "      <th>18182</th>\n",
              "      <td>18183</td>\n",
              "      <td>6365</td>\n",
              "      <td>154.777085</td>\n",
              "      <td>52.908085</td>\n",
              "      <td>0.939760</td>\n",
              "      <td>6531</td>\n",
              "      <td>90.023162</td>\n",
              "      <td>0.561287</td>\n",
              "      <td>342.253</td>\n",
              "      <td>0.682832</td>\n",
              "      <td>2.925396</td>\n",
              "      <td>0</td>\n",
              "    </tr>\n",
              "    <tr>\n",
              "      <th>18183</th>\n",
              "      <td>18184</td>\n",
              "      <td>5960</td>\n",
              "      <td>151.397924</td>\n",
              "      <td>51.474600</td>\n",
              "      <td>0.940427</td>\n",
              "      <td>6189</td>\n",
              "      <td>87.112041</td>\n",
              "      <td>0.492399</td>\n",
              "      <td>343.371</td>\n",
              "      <td>0.635227</td>\n",
              "      <td>2.941216</td>\n",
              "      <td>0</td>\n",
              "    </tr>\n",
              "    <tr>\n",
              "      <th>18184</th>\n",
              "      <td>18185</td>\n",
              "      <td>6134</td>\n",
              "      <td>153.081981</td>\n",
              "      <td>51.590606</td>\n",
              "      <td>0.941500</td>\n",
              "      <td>6283</td>\n",
              "      <td>88.374495</td>\n",
              "      <td>0.489975</td>\n",
              "      <td>338.613</td>\n",
              "      <td>0.672274</td>\n",
              "      <td>2.967245</td>\n",
              "      <td>0</td>\n",
              "    </tr>\n",
              "  </tbody>\n",
              "</table>\n",
              "<p>18185 rows × 12 columns</p>\n",
              "</div>\n",
              "      <button class=\"colab-df-convert\" onclick=\"convertToInteractive('df-1f6d23cb-0295-4b00-84c2-2f6b630f5e9a')\"\n",
              "              title=\"Convert this dataframe to an interactive table.\"\n",
              "              style=\"display:none;\">\n",
              "        \n",
              "  <svg xmlns=\"http://www.w3.org/2000/svg\" height=\"24px\"viewBox=\"0 0 24 24\"\n",
              "       width=\"24px\">\n",
              "    <path d=\"M0 0h24v24H0V0z\" fill=\"none\"/>\n",
              "    <path d=\"M18.56 5.44l.94 2.06.94-2.06 2.06-.94-2.06-.94-.94-2.06-.94 2.06-2.06.94zm-11 1L8.5 8.5l.94-2.06 2.06-.94-2.06-.94L8.5 2.5l-.94 2.06-2.06.94zm10 10l.94 2.06.94-2.06 2.06-.94-2.06-.94-.94-2.06-.94 2.06-2.06.94z\"/><path d=\"M17.41 7.96l-1.37-1.37c-.4-.4-.92-.59-1.43-.59-.52 0-1.04.2-1.43.59L10.3 9.45l-7.72 7.72c-.78.78-.78 2.05 0 2.83L4 21.41c.39.39.9.59 1.41.59.51 0 1.02-.2 1.41-.59l7.78-7.78 2.81-2.81c.8-.78.8-2.07 0-2.86zM5.41 20L4 18.59l7.72-7.72 1.47 1.35L5.41 20z\"/>\n",
              "  </svg>\n",
              "      </button>\n",
              "      \n",
              "  <style>\n",
              "    .colab-df-container {\n",
              "      display:flex;\n",
              "      flex-wrap:wrap;\n",
              "      gap: 12px;\n",
              "    }\n",
              "\n",
              "    .colab-df-convert {\n",
              "      background-color: #E8F0FE;\n",
              "      border: none;\n",
              "      border-radius: 50%;\n",
              "      cursor: pointer;\n",
              "      display: none;\n",
              "      fill: #1967D2;\n",
              "      height: 32px;\n",
              "      padding: 0 0 0 0;\n",
              "      width: 32px;\n",
              "    }\n",
              "\n",
              "    .colab-df-convert:hover {\n",
              "      background-color: #E2EBFA;\n",
              "      box-shadow: 0px 1px 2px rgba(60, 64, 67, 0.3), 0px 1px 3px 1px rgba(60, 64, 67, 0.15);\n",
              "      fill: #174EA6;\n",
              "    }\n",
              "\n",
              "    [theme=dark] .colab-df-convert {\n",
              "      background-color: #3B4455;\n",
              "      fill: #D2E3FC;\n",
              "    }\n",
              "\n",
              "    [theme=dark] .colab-df-convert:hover {\n",
              "      background-color: #434B5C;\n",
              "      box-shadow: 0px 1px 3px 1px rgba(0, 0, 0, 0.15);\n",
              "      filter: drop-shadow(0px 1px 2px rgba(0, 0, 0, 0.3));\n",
              "      fill: #FFFFFF;\n",
              "    }\n",
              "  </style>\n",
              "\n",
              "      <script>\n",
              "        const buttonEl =\n",
              "          document.querySelector('#df-1f6d23cb-0295-4b00-84c2-2f6b630f5e9a button.colab-df-convert');\n",
              "        buttonEl.style.display =\n",
              "          google.colab.kernel.accessAllowed ? 'block' : 'none';\n",
              "\n",
              "        async function convertToInteractive(key) {\n",
              "          const element = document.querySelector('#df-1f6d23cb-0295-4b00-84c2-2f6b630f5e9a');\n",
              "          const dataTable =\n",
              "            await google.colab.kernel.invokeFunction('convertToInteractive',\n",
              "                                                     [key], {});\n",
              "          if (!dataTable) return;\n",
              "\n",
              "          const docLinkHtml = 'Like what you see? Visit the ' +\n",
              "            '<a target=\"_blank\" href=https://colab.research.google.com/notebooks/data_table.ipynb>data table notebook</a>'\n",
              "            + ' to learn more about interactive tables.';\n",
              "          element.innerHTML = '';\n",
              "          dataTable['output_type'] = 'display_data';\n",
              "          await google.colab.output.renderOutput(dataTable, element);\n",
              "          const docLink = document.createElement('div');\n",
              "          docLink.innerHTML = docLinkHtml;\n",
              "          element.appendChild(docLink);\n",
              "        }\n",
              "      </script>\n",
              "    </div>\n",
              "  </div>\n",
              "  "
            ]
          },
          "metadata": {},
          "execution_count": 9
        }
      ]
    },
    {
      "cell_type": "code",
      "source": [
        "print(df.isnull().sum())"
      ],
      "metadata": {
        "colab": {
          "base_uri": "https://localhost:8080/"
        },
        "id": "NEAWEnEbUAGq",
        "outputId": "2acec731-7b6c-44b7-e7a1-642ba3d9b92f"
      },
      "execution_count": 12,
      "outputs": [
        {
          "output_type": "stream",
          "name": "stdout",
          "text": [
            "id                 0\n",
            "Area               0\n",
            "MajorAxisLength    0\n",
            "MinorAxisLength    0\n",
            "Eccentricity       0\n",
            "ConvexArea         0\n",
            "EquivDiameter      0\n",
            "Extent             0\n",
            "Perimeter          0\n",
            "Roundness          0\n",
            "AspectRation       0\n",
            "Class              0\n",
            "dtype: int64\n"
          ]
        }
      ]
    },
    {
      "cell_type": "code",
      "source": [
        "corr=df.corr()\n",
        "plt.figure(figsize=(12,8))\n",
        "sns.heatmap(corr,annot=True)"
      ],
      "metadata": {
        "colab": {
          "base_uri": "https://localhost:8080/",
          "height": 577
        },
        "id": "zLNh7wUxUAJy",
        "outputId": "5c85beca-51b6-4821-eb3a-f67114640111"
      },
      "execution_count": 16,
      "outputs": [
        {
          "output_type": "execute_result",
          "data": {
            "text/plain": [
              "<matplotlib.axes._subplots.AxesSubplot at 0x7f455d9f7c10>"
            ]
          },
          "metadata": {},
          "execution_count": 16
        },
        {
          "output_type": "display_data",
          "data": {
            "text/plain": [
              "<Figure size 864x576 with 2 Axes>"
            ],
            "image/png": "[encoded data removed]"
          },
          "metadata": {
            "needs_background": "light"
          }
        }
      ]
    },
    {
      "cell_type": "code",
      "source": [
        "df=df.drop([\"id\"], axis=1)"
      ],
      "metadata": {
        "id": "2-dh8dK0kqhS"
      },
      "execution_count": 84,
      "outputs": []
    },
    {
      "cell_type": "code",
      "source": [
        "df.dtypes"
      ],
      "metadata": {
        "colab": {
          "base_uri": "https://localhost:8080/"
        },
        "id": "i8m3jNd4iapr",
        "outputId": "d02a2c35-3be0-4229-954d-01eab8b317b4"
      },
      "execution_count": 46,
      "outputs": [
        {
          "output_type": "execute_result",
          "data": {
            "text/plain": [
              "Area                 int64\n",
              "MajorAxisLength    float64\n",
              "MinorAxisLength    float64\n",
              "Eccentricity       float64\n",
              "ConvexArea           int64\n",
              "EquivDiameter      float64\n",
              "Extent             float64\n",
              "Perimeter          float64\n",
              "Roundness          float64\n",
              "AspectRation       float64\n",
              "Class                int64\n",
              "dtype: object"
            ]
          },
          "metadata": {},
          "execution_count": 46
        }
      ]
    },
    {
      "cell_type": "code",
      "source": [
        "print(sum(df[\"Class\"])/len(df[\"Class\"]))"
      ],
      "metadata": {
        "colab": {
          "base_uri": "https://localhost:8080/"
        },
        "id": "eUTyfQMbUAMw",
        "outputId": "e62aee06-f579-4f87-bcdc-26b4574bb2bf"
      },
      "execution_count": 18,
      "outputs": [
        {
          "output_type": "stream",
          "name": "stdout",
          "text": [
            "0.5490789111905416\n"
          ]
        }
      ]
    },
    {
      "cell_type": "markdown",
      "source": [
        "**SPLITTING DATASET:**"
      ],
      "metadata": {
        "id": "w55HOybKbW80"
      }
    },
    {
      "cell_type": "code",
      "source": [
        "'''features=df.columns[:10]\n",
        "print(features)\n",
        "\n",
        "x1=df.loc[:,features]\n",
        "y1=df.loc[:,['Class']]\n",
        "\n",
        "print(x.shape,y.shape)\n",
        "\n",
        "'''\n",
        "x=df.drop(['Class'], axis=1)\n",
        "y=df['Class']\n",
        "\n",
        "print(x.shape, y.shape)\n"
      ],
      "metadata": {
        "colab": {
          "base_uri": "https://localhost:8080/"
        },
        "id": "L8_1QHNPbWWz",
        "outputId": "125c6133-ae70-418a-8dcf-dceabcf66fdb"
      },
      "execution_count": 71,
      "outputs": [
        {
          "output_type": "stream",
          "name": "stdout",
          "text": [
            "(18185, 10) (18185,)\n"
          ]
        }
      ]
    },
    {
      "cell_type": "code",
      "source": [
        "print(x)"
      ],
      "metadata": {
        "colab": {
          "base_uri": "https://localhost:8080/"
        },
        "id": "Macz9sOMhTIx",
        "outputId": "fdfa4b64-c983-4d06-9402-fb442bf3bb7a"
      },
      "execution_count": 72,
      "outputs": [
        {
          "output_type": "stream",
          "name": "stdout",
          "text": [
            "       Area  MajorAxisLength  MinorAxisLength  Eccentricity  ConvexArea  \\\n",
            "0      4537        92.229316        64.012769      0.719916        4677   \n",
            "1      2872        74.691881        51.400454      0.725553        3015   \n",
            "2      3048        76.293164        52.043491      0.731211        3132   \n",
            "3      3073        77.033628        51.928487      0.738639        3157   \n",
            "4      3693        85.124785        56.374021      0.749282        3802   \n",
            "...     ...              ...              ...           ...         ...   \n",
            "18180  5853       148.624571        51.029281      0.939210        6008   \n",
            "18181  7585       169.593996        58.141659      0.939398        7806   \n",
            "18182  6365       154.777085        52.908085      0.939760        6531   \n",
            "18183  5960       151.397924        51.474600      0.940427        6189   \n",
            "18184  6134       153.081981        51.590606      0.941500        6283   \n",
            "\n",
            "       EquivDiameter    Extent  Perimeter  Roundness  AspectRation  \n",
            "0          76.004525  0.657536    273.085   0.764510      1.440796  \n",
            "1          60.471018  0.713009    208.317   0.831658      1.453137  \n",
            "2          62.296341  0.759153    210.012   0.868434      1.465950  \n",
            "3          62.551300  0.783529    210.657   0.870203      1.483456  \n",
            "4          68.571668  0.769375    230.332   0.874743      1.510000  \n",
            "...              ...       ...        ...        ...           ...  \n",
            "18180      86.326537  0.498594    332.960   0.663444      2.912535  \n",
            "18181      98.272692  0.647461    385.506   0.641362      2.916910  \n",
            "18182      90.023162  0.561287    342.253   0.682832      2.925396  \n",
            "18183      87.112041  0.492399    343.371   0.635227      2.941216  \n",
            "18184      88.374495  0.489975    338.613   0.672274      2.967245  \n",
            "\n",
            "[18185 rows x 10 columns]\n"
          ]
        }
      ]
    },
    {
      "cell_type": "code",
      "source": [
        "from sklearn.model_selection import train_test_split\n",
        "\n",
        "x_train, x_test, y_train, y_test=train_test_split(x, y, shuffle=True, test_size=0.2, random_state=42)"
      ],
      "metadata": {
        "id": "ZzATEVrEX1Gp"
      },
      "execution_count": 97,
      "outputs": []
    },
    {
      "cell_type": "code",
      "source": [
        "print(x_train.shape, y_train.shape, x_test.shape, y_test.shape)\n"
      ],
      "metadata": {
        "colab": {
          "base_uri": "https://localhost:8080/"
        },
        "id": "ZmmxFHESmzPG",
        "outputId": "048d36c1-96d6-45f5-ee1e-9f64171fe01c"
      },
      "execution_count": 86,
      "outputs": [
        {
          "output_type": "stream",
          "name": "stdout",
          "text": [
            "(14548, 10) (14548,) (3637, 10) (3637,)\n"
          ]
        }
      ]
    },
    {
      "cell_type": "markdown",
      "source": [
        "**SCALING:**"
      ],
      "metadata": {
        "id": "a5KD87GHuSff"
      }
    },
    {
      "cell_type": "code",
      "source": [
        "scaler=StandardScaler()\n",
        "x_train_scaled=scaler.fit(x_train)"
      ],
      "metadata": {
        "id": "PUdClGOOqaN9"
      },
      "execution_count": 87,
      "outputs": []
    },
    {
      "cell_type": "code",
      "source": [
        "from pandas import DataFrame\n",
        "x_train = pd.DataFrame(scaler.transform(x_train), index=x_train.index, columns=x_train.columns)\n",
        "x_test = pd.DataFrame(scaler.transform(x_test), index=x_test.index, columns=x_test.columns)"
      ],
      "metadata": {
        "id": "Wt223G1ysD-w"
      },
      "execution_count": 111,
      "outputs": []
    },
    {
      "cell_type": "code",
      "source": [
        "x_train.shape, x_test.shape"
      ],
      "metadata": {
        "colab": {
          "base_uri": "https://localhost:8080/"
        },
        "id": "G3ANk3-4tEl8",
        "outputId": "3e6bacca-15c8-4c6f-8611-a7742960c559"
      },
      "execution_count": 112,
      "outputs": [
        {
          "output_type": "execute_result",
          "data": {
            "text/plain": [
              "((14548, 10), (3637, 10))"
            ]
          },
          "metadata": {},
          "execution_count": 112
        }
      ]
    },
    {
      "cell_type": "markdown",
      "source": [
        "**METRICS DEFINITION:**"
      ],
      "metadata": {
        "id": "GO8Gw8_Kyru-"
      }
    },
    {
      "cell_type": "code",
      "source": [
        "from sklearn.metrics import roc_auc_score, r2_score, mean_absolute_error, mean_squared_error, precision_recall_fscore_support"
      ],
      "metadata": {
        "id": "981CrtylzLml"
      },
      "execution_count": 128,
      "outputs": []
    },
    {
      "cell_type": "markdown",
      "source": [
        "F1_score:"
      ],
      "metadata": {
        "id": "sxcVrobI1eZe"
      }
    },
    {
      "cell_type": "code",
      "source": [
        "def recall(y_test, y_pred):\n",
        " return precision_recall_fscore_support(y_test, y_pred, average=None,labels=[0,1])"
      ],
      "metadata": {
        "id": "TpZZZXiO0JVJ"
      },
      "execution_count": 134,
      "outputs": []
    },
    {
      "cell_type": "markdown",
      "source": [
        "**LOGISTIC REGRESSION:**"
      ],
      "metadata": {
        "id": "G0oJ08AAaAyv"
      }
    },
    {
      "cell_type": "code",
      "source": [
        "from sklearn.linear_model import LogisticRegression\n",
        "LogRegModel=LogisticRegression()\n",
        "LogRegModel.fit(x_train, y_train.values.ravel())"
      ],
      "metadata": {
        "colab": {
          "base_uri": "https://localhost:8080/"
        },
        "id": "rODFF8qfZCK_",
        "outputId": "756acdf5-4ae6-4634-b44d-d7cecf1c42f8"
      },
      "execution_count": 113,
      "outputs": [
        {
          "output_type": "execute_result",
          "data": {
            "text/plain": [
              "LogisticRegression()"
            ]
          },
          "metadata": {},
          "execution_count": 113
        }
      ]
    },
    {
      "cell_type": "code",
      "source": [
        "predLR=LogRegModel.predict(x_test)"
      ],
      "metadata": {
        "id": "4PjZCDmHmJ8O"
      },
      "execution_count": 114,
      "outputs": []
    },
    {
      "cell_type": "markdown",
      "source": [
        "ACCURACY:"
      ],
      "metadata": {
        "id": "960R9XoE3zfC"
      }
    },
    {
      "cell_type": "code",
      "source": [
        "accuracy_score(y_test, predLR)"
      ],
      "metadata": {
        "colab": {
          "base_uri": "https://localhost:8080/"
        },
        "id": "AYPHjB80mlvV",
        "outputId": "1cf685ed-7603-4524-a62d-5608032f6264"
      },
      "execution_count": 115,
      "outputs": [
        {
          "output_type": "execute_result",
          "data": {
            "text/plain": [
              "0.9898267803134452"
            ]
          },
          "metadata": {},
          "execution_count": 115
        }
      ]
    },
    {
      "cell_type": "markdown",
      "source": [
        "RECALL:"
      ],
      "metadata": {
        "id": "i4Xw2Yyc3w32"
      }
    },
    {
      "cell_type": "code",
      "source": [
        "recall(y_test, predLR)"
      ],
      "metadata": {
        "colab": {
          "base_uri": "https://localhost:8080/"
        },
        "id": "wsLnVg-01Qhk",
        "outputId": "6e73cfe3-2647-4acc-9f8b-da1c7b88a0c0"
      },
      "execution_count": 135,
      "outputs": [
        {
          "output_type": "execute_result",
          "data": {
            "text/plain": [
              "(array([0.991374  , 0.98857994]),\n",
              " array([0.98590686, 0.99301746]),\n",
              " array([0.98863287, 0.99079373]),\n",
              " array([1632, 2005]))"
            ]
          },
          "metadata": {},
          "execution_count": 135
        }
      ]
    },
    {
      "cell_type": "markdown",
      "source": [
        "MSE:"
      ],
      "metadata": {
        "id": "BKSU3Lqv3u30"
      }
    },
    {
      "cell_type": "code",
      "source": [
        "mean_squared_error(y_test, predLR)"
      ],
      "metadata": {
        "colab": {
          "base_uri": "https://localhost:8080/"
        },
        "id": "LuHHUAH71poE",
        "outputId": "9f2d8ca4-4b03-4d3f-8942-de0c121e3c49"
      },
      "execution_count": 136,
      "outputs": [
        {
          "output_type": "execute_result",
          "data": {
            "text/plain": [
              "0.010173219686554854"
            ]
          },
          "metadata": {},
          "execution_count": 136
        }
      ]
    },
    {
      "cell_type": "markdown",
      "source": [
        "**NAIVE BAYES:**"
      ],
      "metadata": {
        "id": "Dha2D1K7aFaV"
      }
    },
    {
      "cell_type": "code",
      "source": [
        "from sklearn.naive_bayes import GaussianNB\n",
        "naiveModel=GaussianNB()\n",
        "naiveModel.fit(x_train, y_train)"
      ],
      "metadata": {
        "colab": {
          "base_uri": "https://localhost:8080/"
        },
        "id": "x3VQvpyIX1Uj",
        "outputId": "87406445-14bd-4155-fc1a-2dd5510761f8"
      },
      "execution_count": 99,
      "outputs": [
        {
          "output_type": "execute_result",
          "data": {
            "text/plain": [
              "GaussianNB()"
            ]
          },
          "metadata": {},
          "execution_count": 99
        }
      ]
    },
    {
      "cell_type": "markdown",
      "source": [
        "ACCURACY:"
      ],
      "metadata": {
        "id": "ypQSdpgv27yk"
      }
    },
    {
      "cell_type": "code",
      "source": [
        "naiveModel.score(x_test, y_test)"
      ],
      "metadata": {
        "colab": {
          "base_uri": "https://localhost:8080/"
        },
        "id": "UYhkWHtZt86S",
        "outputId": "cd3b2ae9-9ab3-4560-a0f0-0ea6c6eadefe"
      },
      "execution_count": 100,
      "outputs": [
        {
          "output_type": "execute_result",
          "data": {
            "text/plain": [
              "0.9796535606268902"
            ]
          },
          "metadata": {},
          "execution_count": 100
        }
      ]
    },
    {
      "cell_type": "markdown",
      "source": [
        "**XGBOOST:**"
      ],
      "metadata": {
        "id": "4EpEN6yWaKdA"
      }
    },
    {
      "cell_type": "code",
      "source": [
        "import xgboost as xg\n",
        "xgb=xg.XGBClassifier()\n",
        "\n",
        "eval_set=[(x_train,y_train),(x_test,y_test)]\n",
        "eval_metric=[\"auc\",\"error\"]"
      ],
      "metadata": {
        "id": "M4EwTrWLaI1a"
      },
      "execution_count": 117,
      "outputs": []
    },
    {
      "cell_type": "code",
      "source": [
        "xgb.fit(x_train, y_train.values.ravel(), eval_metric=eval_metric,eval_set=eval_set, verbose=True)"
      ],
      "metadata": {
        "colab": {
          "base_uri": "https://localhost:8080/"
        },
        "id": "vBEPbchWf7Sc",
        "outputId": "c1fe6090-9c6b-4be0-ce70-5eefbb81ed4a"
      },
      "execution_count": 118,
      "outputs": [
        {
          "output_type": "stream",
          "name": "stdout",
          "text": [
            "[0]\tvalidation_0-auc:0.997199\tvalidation_0-error:0.010861\tvalidation_1-auc:0.994783\tvalidation_1-error:0.012648\n",
            "[1]\tvalidation_0-auc:0.998045\tvalidation_0-error:0.010654\tvalidation_1-auc:0.996681\tvalidation_1-error:0.012923\n",
            "[2]\tvalidation_0-auc:0.998102\tvalidation_0-error:0.010517\tvalidation_1-auc:0.996605\tvalidation_1-error:0.012923\n",
            "[3]\tvalidation_0-auc:0.998056\tvalidation_0-error:0.010517\tvalidation_1-auc:0.996681\tvalidation_1-error:0.012923\n",
            "[4]\tvalidation_0-auc:0.998243\tvalidation_0-error:0.010311\tvalidation_1-auc:0.996874\tvalidation_1-error:0.012648\n",
            "[5]\tvalidation_0-auc:0.998242\tvalidation_0-error:0.010517\tvalidation_1-auc:0.996923\tvalidation_1-error:0.012648\n",
            "[6]\tvalidation_0-auc:0.998389\tvalidation_0-error:0.010517\tvalidation_1-auc:0.996943\tvalidation_1-error:0.012648\n",
            "[7]\tvalidation_0-auc:0.998393\tvalidation_0-error:0.010311\tvalidation_1-auc:0.997292\tvalidation_1-error:0.012648\n",
            "[8]\tvalidation_0-auc:0.9984\tvalidation_0-error:0.010311\tvalidation_1-auc:0.997305\tvalidation_1-error:0.012648\n",
            "[9]\tvalidation_0-auc:0.998452\tvalidation_0-error:0.010242\tvalidation_1-auc:0.997248\tvalidation_1-error:0.012373\n",
            "[10]\tvalidation_0-auc:0.998461\tvalidation_0-error:0.010311\tvalidation_1-auc:0.99725\tvalidation_1-error:0.012098\n",
            "[11]\tvalidation_0-auc:0.998463\tvalidation_0-error:0.010311\tvalidation_1-auc:0.997246\tvalidation_1-error:0.012098\n",
            "[12]\tvalidation_0-auc:0.998466\tvalidation_0-error:0.010104\tvalidation_1-auc:0.997232\tvalidation_1-error:0.011823\n",
            "[13]\tvalidation_0-auc:0.998469\tvalidation_0-error:0.010036\tvalidation_1-auc:0.997245\tvalidation_1-error:0.011823\n",
            "[14]\tvalidation_0-auc:0.998481\tvalidation_0-error:0.010104\tvalidation_1-auc:0.997255\tvalidation_1-error:0.012098\n",
            "[15]\tvalidation_0-auc:0.998545\tvalidation_0-error:0.010036\tvalidation_1-auc:0.997496\tvalidation_1-error:0.012098\n",
            "[16]\tvalidation_0-auc:0.998546\tvalidation_0-error:0.009967\tvalidation_1-auc:0.997493\tvalidation_1-error:0.012098\n",
            "[17]\tvalidation_0-auc:0.998547\tvalidation_0-error:0.009967\tvalidation_1-auc:0.997495\tvalidation_1-error:0.012098\n",
            "[18]\tvalidation_0-auc:0.998547\tvalidation_0-error:0.009898\tvalidation_1-auc:0.997497\tvalidation_1-error:0.012098\n",
            "[19]\tvalidation_0-auc:0.998556\tvalidation_0-error:0.009898\tvalidation_1-auc:0.997505\tvalidation_1-error:0.012098\n",
            "[20]\tvalidation_0-auc:0.99856\tvalidation_0-error:0.009967\tvalidation_1-auc:0.997836\tvalidation_1-error:0.012098\n",
            "[21]\tvalidation_0-auc:0.998557\tvalidation_0-error:0.009898\tvalidation_1-auc:0.997853\tvalidation_1-error:0.012098\n",
            "[22]\tvalidation_0-auc:0.998644\tvalidation_0-error:0.009967\tvalidation_1-auc:0.997917\tvalidation_1-error:0.012098\n",
            "[23]\tvalidation_0-auc:0.998647\tvalidation_0-error:0.009967\tvalidation_1-auc:0.997928\tvalidation_1-error:0.012098\n",
            "[24]\tvalidation_0-auc:0.998715\tvalidation_0-error:0.009898\tvalidation_1-auc:0.997973\tvalidation_1-error:0.012098\n",
            "[25]\tvalidation_0-auc:0.998728\tvalidation_0-error:0.009898\tvalidation_1-auc:0.997975\tvalidation_1-error:0.011823\n",
            "[26]\tvalidation_0-auc:0.998728\tvalidation_0-error:0.009898\tvalidation_1-auc:0.998205\tvalidation_1-error:0.011823\n",
            "[27]\tvalidation_0-auc:0.998783\tvalidation_0-error:0.010173\tvalidation_1-auc:0.998174\tvalidation_1-error:0.011548\n",
            "[28]\tvalidation_0-auc:0.998797\tvalidation_0-error:0.010173\tvalidation_1-auc:0.998156\tvalidation_1-error:0.011548\n",
            "[29]\tvalidation_0-auc:0.9988\tvalidation_0-error:0.010173\tvalidation_1-auc:0.998174\tvalidation_1-error:0.011548\n",
            "[30]\tvalidation_0-auc:0.998803\tvalidation_0-error:0.009967\tvalidation_1-auc:0.998169\tvalidation_1-error:0.011548\n",
            "[31]\tvalidation_0-auc:0.99881\tvalidation_0-error:0.009967\tvalidation_1-auc:0.998182\tvalidation_1-error:0.011548\n",
            "[32]\tvalidation_0-auc:0.99882\tvalidation_0-error:0.00983\tvalidation_1-auc:0.998178\tvalidation_1-error:0.011273\n",
            "[33]\tvalidation_0-auc:0.998895\tvalidation_0-error:0.009898\tvalidation_1-auc:0.998415\tvalidation_1-error:0.011823\n",
            "[34]\tvalidation_0-auc:0.998891\tvalidation_0-error:0.00983\tvalidation_1-auc:0.998435\tvalidation_1-error:0.011273\n",
            "[35]\tvalidation_0-auc:0.998888\tvalidation_0-error:0.009898\tvalidation_1-auc:0.998413\tvalidation_1-error:0.011548\n",
            "[36]\tvalidation_0-auc:0.998905\tvalidation_0-error:0.009898\tvalidation_1-auc:0.998459\tvalidation_1-error:0.011548\n",
            "[37]\tvalidation_0-auc:0.998915\tvalidation_0-error:0.00983\tvalidation_1-auc:0.99847\tvalidation_1-error:0.011273\n",
            "[38]\tvalidation_0-auc:0.999072\tvalidation_0-error:0.009348\tvalidation_1-auc:0.998728\tvalidation_1-error:0.011548\n",
            "[39]\tvalidation_0-auc:0.999134\tvalidation_0-error:0.009417\tvalidation_1-auc:0.998742\tvalidation_1-error:0.011548\n",
            "[40]\tvalidation_0-auc:0.999148\tvalidation_0-error:0.009348\tvalidation_1-auc:0.998769\tvalidation_1-error:0.011548\n",
            "[41]\tvalidation_0-auc:0.999251\tvalidation_0-error:0.009417\tvalidation_1-auc:0.998782\tvalidation_1-error:0.011548\n",
            "[42]\tvalidation_0-auc:0.99926\tvalidation_0-error:0.009417\tvalidation_1-auc:0.998789\tvalidation_1-error:0.011273\n",
            "[43]\tvalidation_0-auc:0.999265\tvalidation_0-error:0.009348\tvalidation_1-auc:0.998789\tvalidation_1-error:0.011273\n",
            "[44]\tvalidation_0-auc:0.99928\tvalidation_0-error:0.00928\tvalidation_1-auc:0.998807\tvalidation_1-error:0.011273\n",
            "[45]\tvalidation_0-auc:0.999309\tvalidation_0-error:0.009211\tvalidation_1-auc:0.998836\tvalidation_1-error:0.011273\n",
            "[46]\tvalidation_0-auc:0.999312\tvalidation_0-error:0.009211\tvalidation_1-auc:0.998836\tvalidation_1-error:0.011273\n",
            "[47]\tvalidation_0-auc:0.999316\tvalidation_0-error:0.009142\tvalidation_1-auc:0.998846\tvalidation_1-error:0.011273\n",
            "[48]\tvalidation_0-auc:0.999333\tvalidation_0-error:0.009142\tvalidation_1-auc:0.998849\tvalidation_1-error:0.011273\n",
            "[49]\tvalidation_0-auc:0.99935\tvalidation_0-error:0.009005\tvalidation_1-auc:0.998858\tvalidation_1-error:0.011273\n",
            "[50]\tvalidation_0-auc:0.999354\tvalidation_0-error:0.009005\tvalidation_1-auc:0.998863\tvalidation_1-error:0.011273\n",
            "[51]\tvalidation_0-auc:0.999357\tvalidation_0-error:0.008936\tvalidation_1-auc:0.998857\tvalidation_1-error:0.011548\n",
            "[52]\tvalidation_0-auc:0.999414\tvalidation_0-error:0.008867\tvalidation_1-auc:0.998842\tvalidation_1-error:0.011548\n",
            "[53]\tvalidation_0-auc:0.999409\tvalidation_0-error:0.008867\tvalidation_1-auc:0.998847\tvalidation_1-error:0.011273\n",
            "[54]\tvalidation_0-auc:0.999413\tvalidation_0-error:0.008867\tvalidation_1-auc:0.998849\tvalidation_1-error:0.011273\n",
            "[55]\tvalidation_0-auc:0.999418\tvalidation_0-error:0.008867\tvalidation_1-auc:0.998851\tvalidation_1-error:0.011273\n",
            "[56]\tvalidation_0-auc:0.999423\tvalidation_0-error:0.008867\tvalidation_1-auc:0.998813\tvalidation_1-error:0.011273\n",
            "[57]\tvalidation_0-auc:0.999427\tvalidation_0-error:0.008867\tvalidation_1-auc:0.998914\tvalidation_1-error:0.011273\n",
            "[58]\tvalidation_0-auc:0.999435\tvalidation_0-error:0.008867\tvalidation_1-auc:0.998924\tvalidation_1-error:0.010723\n",
            "[59]\tvalidation_0-auc:0.999445\tvalidation_0-error:0.00873\tvalidation_1-auc:0.998967\tvalidation_1-error:0.010723\n",
            "[60]\tvalidation_0-auc:0.999454\tvalidation_0-error:0.00873\tvalidation_1-auc:0.998988\tvalidation_1-error:0.010723\n",
            "[61]\tvalidation_0-auc:0.999458\tvalidation_0-error:0.008524\tvalidation_1-auc:0.998995\tvalidation_1-error:0.010998\n",
            "[62]\tvalidation_0-auc:0.999461\tvalidation_0-error:0.008524\tvalidation_1-auc:0.99901\tvalidation_1-error:0.010998\n",
            "[63]\tvalidation_0-auc:0.99947\tvalidation_0-error:0.008524\tvalidation_1-auc:0.999019\tvalidation_1-error:0.010723\n",
            "[64]\tvalidation_0-auc:0.999475\tvalidation_0-error:0.008524\tvalidation_1-auc:0.999019\tvalidation_1-error:0.010723\n",
            "[65]\tvalidation_0-auc:0.99948\tvalidation_0-error:0.008524\tvalidation_1-auc:0.998999\tvalidation_1-error:0.010723\n",
            "[66]\tvalidation_0-auc:0.999485\tvalidation_0-error:0.008524\tvalidation_1-auc:0.999012\tvalidation_1-error:0.010723\n",
            "[67]\tvalidation_0-auc:0.99949\tvalidation_0-error:0.008455\tvalidation_1-auc:0.99904\tvalidation_1-error:0.010723\n",
            "[68]\tvalidation_0-auc:0.999492\tvalidation_0-error:0.008455\tvalidation_1-auc:0.999045\tvalidation_1-error:0.010723\n",
            "[69]\tvalidation_0-auc:0.999495\tvalidation_0-error:0.008386\tvalidation_1-auc:0.999059\tvalidation_1-error:0.010723\n",
            "[70]\tvalidation_0-auc:0.9995\tvalidation_0-error:0.008386\tvalidation_1-auc:0.999067\tvalidation_1-error:0.010448\n",
            "[71]\tvalidation_0-auc:0.999502\tvalidation_0-error:0.008386\tvalidation_1-auc:0.999068\tvalidation_1-error:0.010448\n",
            "[72]\tvalidation_0-auc:0.999508\tvalidation_0-error:0.008386\tvalidation_1-auc:0.999083\tvalidation_1-error:0.010448\n",
            "[73]\tvalidation_0-auc:0.999513\tvalidation_0-error:0.008317\tvalidation_1-auc:0.999093\tvalidation_1-error:0.010448\n",
            "[74]\tvalidation_0-auc:0.999515\tvalidation_0-error:0.008249\tvalidation_1-auc:0.999094\tvalidation_1-error:0.010448\n",
            "[75]\tvalidation_0-auc:0.999521\tvalidation_0-error:0.008317\tvalidation_1-auc:0.999101\tvalidation_1-error:0.010448\n",
            "[76]\tvalidation_0-auc:0.999522\tvalidation_0-error:0.008317\tvalidation_1-auc:0.9991\tvalidation_1-error:0.010448\n",
            "[77]\tvalidation_0-auc:0.999526\tvalidation_0-error:0.008317\tvalidation_1-auc:0.999098\tvalidation_1-error:0.010448\n",
            "[78]\tvalidation_0-auc:0.999527\tvalidation_0-error:0.008317\tvalidation_1-auc:0.999099\tvalidation_1-error:0.010448\n",
            "[79]\tvalidation_0-auc:0.999532\tvalidation_0-error:0.008249\tvalidation_1-auc:0.999098\tvalidation_1-error:0.010448\n",
            "[80]\tvalidation_0-auc:0.999537\tvalidation_0-error:0.008249\tvalidation_1-auc:0.999124\tvalidation_1-error:0.010448\n",
            "[81]\tvalidation_0-auc:0.999539\tvalidation_0-error:0.008317\tvalidation_1-auc:0.999125\tvalidation_1-error:0.010448\n",
            "[82]\tvalidation_0-auc:0.999541\tvalidation_0-error:0.008317\tvalidation_1-auc:0.999126\tvalidation_1-error:0.010448\n",
            "[83]\tvalidation_0-auc:0.999542\tvalidation_0-error:0.008317\tvalidation_1-auc:0.999129\tvalidation_1-error:0.010448\n",
            "[84]\tvalidation_0-auc:0.999543\tvalidation_0-error:0.008249\tvalidation_1-auc:0.999126\tvalidation_1-error:0.010173\n",
            "[85]\tvalidation_0-auc:0.999549\tvalidation_0-error:0.008317\tvalidation_1-auc:0.99913\tvalidation_1-error:0.010173\n",
            "[86]\tvalidation_0-auc:0.99955\tvalidation_0-error:0.008317\tvalidation_1-auc:0.99913\tvalidation_1-error:0.010173\n",
            "[87]\tvalidation_0-auc:0.999554\tvalidation_0-error:0.008249\tvalidation_1-auc:0.999118\tvalidation_1-error:0.010173\n",
            "[88]\tvalidation_0-auc:0.999558\tvalidation_0-error:0.00818\tvalidation_1-auc:0.999117\tvalidation_1-error:0.010173\n",
            "[89]\tvalidation_0-auc:0.99956\tvalidation_0-error:0.00818\tvalidation_1-auc:0.999118\tvalidation_1-error:0.010173\n",
            "[90]\tvalidation_0-auc:0.999561\tvalidation_0-error:0.00818\tvalidation_1-auc:0.999113\tvalidation_1-error:0.010173\n",
            "[91]\tvalidation_0-auc:0.999565\tvalidation_0-error:0.00818\tvalidation_1-auc:0.999116\tvalidation_1-error:0.010173\n",
            "[92]\tvalidation_0-auc:0.999567\tvalidation_0-error:0.00818\tvalidation_1-auc:0.999117\tvalidation_1-error:0.010173\n",
            "[93]\tvalidation_0-auc:0.999569\tvalidation_0-error:0.00818\tvalidation_1-auc:0.999117\tvalidation_1-error:0.010173\n",
            "[94]\tvalidation_0-auc:0.999572\tvalidation_0-error:0.00818\tvalidation_1-auc:0.999123\tvalidation_1-error:0.010173\n",
            "[95]\tvalidation_0-auc:0.999577\tvalidation_0-error:0.00818\tvalidation_1-auc:0.999124\tvalidation_1-error:0.010173\n",
            "[96]\tvalidation_0-auc:0.999578\tvalidation_0-error:0.008111\tvalidation_1-auc:0.999119\tvalidation_1-error:0.010173\n",
            "[97]\tvalidation_0-auc:0.99958\tvalidation_0-error:0.008111\tvalidation_1-auc:0.999121\tvalidation_1-error:0.010173\n",
            "[98]\tvalidation_0-auc:0.999586\tvalidation_0-error:0.008111\tvalidation_1-auc:0.999121\tvalidation_1-error:0.010173\n",
            "[99]\tvalidation_0-auc:0.999588\tvalidation_0-error:0.008111\tvalidation_1-auc:0.999122\tvalidation_1-error:0.010173\n"
          ]
        },
        {
          "output_type": "execute_result",
          "data": {
            "text/plain": [
              "XGBClassifier()"
            ]
          },
          "metadata": {},
          "execution_count": 118
        }
      ]
    },
    {
      "cell_type": "markdown",
      "source": [
        "ACCURACY:"
      ],
      "metadata": {
        "id": "swufVSCH2d9t"
      }
    },
    {
      "cell_type": "code",
      "source": [
        "predxgb=xgb.predict(x_test)\n",
        "print(accuracy_score(y_test,predxgb))\n"
      ],
      "metadata": {
        "colab": {
          "base_uri": "https://localhost:8080/"
        },
        "id": "Fg8zfnqljCIP",
        "outputId": "7e1c8c38-5fc0-4685-f4b6-beed1f168459"
      },
      "execution_count": 119,
      "outputs": [
        {
          "output_type": "stream",
          "name": "stdout",
          "text": [
            "0.9898267803134452\n"
          ]
        }
      ]
    },
    {
      "cell_type": "markdown",
      "source": [
        "MSE:"
      ],
      "metadata": {
        "id": "I0VRwADv2Zy_"
      }
    },
    {
      "cell_type": "code",
      "source": [
        "mean_squared_error(y_test, predxgb)"
      ],
      "metadata": {
        "colab": {
          "base_uri": "https://localhost:8080/"
        },
        "id": "asOpI-7q2ShY",
        "outputId": "943ff9ee-9bf3-4c24-9e18-02f889faa261"
      },
      "execution_count": 137,
      "outputs": [
        {
          "output_type": "execute_result",
          "data": {
            "text/plain": [
              "0.010173219686554854"
            ]
          },
          "metadata": {},
          "execution_count": 137
        }
      ]
    },
    {
      "cell_type": "markdown",
      "source": [
        "RECALL:"
      ],
      "metadata": {
        "id": "AlT71UQR3rVl"
      }
    },
    {
      "cell_type": "code",
      "source": [
        "recall(y_test, predxgb)"
      ],
      "metadata": {
        "colab": {
          "base_uri": "https://localhost:8080/"
        },
        "id": "LSdjEAi53n1N",
        "outputId": "d0809fa0-d7d9-4a57-e74d-847c27dd83aa"
      },
      "execution_count": 142,
      "outputs": [
        {
          "output_type": "execute_result",
          "data": {
            "text/plain": [
              "(array([0.99076923, 0.98906561]),\n",
              " array([0.98651961, 0.9925187 ]),\n",
              " array([0.98863985, 0.99078915]),\n",
              " array([1632, 2005]))"
            ]
          },
          "metadata": {},
          "execution_count": 142
        }
      ]
    },
    {
      "cell_type": "markdown",
      "source": [
        "**SVM:**"
      ],
      "metadata": {
        "id": "5QZHvsxLd_lH"
      }
    },
    {
      "cell_type": "code",
      "source": [
        "from sklearn import svm\n",
        "svmModel=svm.SVC()\n",
        "svmModel.fit(x_train, y_train)"
      ],
      "metadata": {
        "colab": {
          "base_uri": "https://localhost:8080/"
        },
        "id": "THXeoZeGd_Dt",
        "outputId": "fa53fe7b-b2a8-4c01-f89a-b381cd12f672"
      },
      "execution_count": 122,
      "outputs": [
        {
          "output_type": "execute_result",
          "data": {
            "text/plain": [
              "SVC()"
            ]
          },
          "metadata": {},
          "execution_count": 122
        }
      ]
    },
    {
      "cell_type": "markdown",
      "source": [
        "ACCURACY:"
      ],
      "metadata": {
        "id": "7NOZ2Whh2kif"
      }
    },
    {
      "cell_type": "code",
      "source": [
        "predSVM=svmModel.predict(x_test)\n",
        "print(accuracy_score(y_test,predSVM))"
      ],
      "metadata": {
        "colab": {
          "base_uri": "https://localhost:8080/"
        },
        "id": "3y-kgC6fvMVe",
        "outputId": "843ffdb7-cda8-448a-bab4-c339b8875114"
      },
      "execution_count": 123,
      "outputs": [
        {
          "output_type": "stream",
          "name": "stdout",
          "text": [
            "0.9890019246631839\n"
          ]
        }
      ]
    },
    {
      "cell_type": "markdown",
      "source": [
        "MSE:"
      ],
      "metadata": {
        "id": "ltjT-RDD2qvT"
      }
    },
    {
      "cell_type": "code",
      "source": [
        "mean_squared_error(y_test, predSVM)"
      ],
      "metadata": {
        "colab": {
          "base_uri": "https://localhost:8080/"
        },
        "id": "WQCRkZ0p2W7Z",
        "outputId": "891f16aa-e348-4e48-de3f-36b7288cd914"
      },
      "execution_count": 138,
      "outputs": [
        {
          "output_type": "execute_result",
          "data": {
            "text/plain": [
              "0.010998075336816057"
            ]
          },
          "metadata": {},
          "execution_count": 138
        }
      ]
    },
    {
      "cell_type": "markdown",
      "source": [
        "RECALL:"
      ],
      "metadata": {
        "id": "cOiRATOL3iUF"
      }
    },
    {
      "cell_type": "code",
      "source": [
        "recall(y_test, predSVM)"
      ],
      "metadata": {
        "colab": {
          "base_uri": "https://localhost:8080/"
        },
        "id": "tKen-ik13cZr",
        "outputId": "a0818e02-5547-455e-dad6-5b121fadf458"
      },
      "execution_count": 141,
      "outputs": [
        {
          "output_type": "execute_result",
          "data": {
            "text/plain": [
              "(array([0.99075216, 0.98759305]),\n",
              " array([0.98468137, 0.9925187 ]),\n",
              " array([0.98770744, 0.99004975]),\n",
              " array([1632, 2005]))"
            ]
          },
          "metadata": {},
          "execution_count": 141
        }
      ]
    },
    {
      "cell_type": "markdown",
      "source": [
        "**RANDOM FOREST:**"
      ],
      "metadata": {
        "id": "TkHgwVRva3gv"
      }
    },
    {
      "cell_type": "code",
      "source": [
        "from sklearn.ensemble import RandomForestClassifier\n",
        "from sklearn.datasets import make_classification\n",
        "\n",
        "RFModel=RandomForestClassifier()\n",
        "\n",
        "RFModel.fit(x_train, y_train)"
      ],
      "metadata": {
        "colab": {
          "base_uri": "https://localhost:8080/"
        },
        "id": "gspOQHuxewpV",
        "outputId": "5f46760d-a289-4ea3-e179-beeff4058064"
      },
      "execution_count": 126,
      "outputs": [
        {
          "output_type": "execute_result",
          "data": {
            "text/plain": [
              "RandomForestClassifier()"
            ]
          },
          "metadata": {},
          "execution_count": 126
        }
      ]
    },
    {
      "cell_type": "markdown",
      "source": [
        "ACCURACY:"
      ],
      "metadata": {
        "id": "GEVIAG4t2udu"
      }
    },
    {
      "cell_type": "code",
      "source": [
        "predRF=RFModel.predict(x_test)\n",
        "print(accuracy_score(y_test,predRF))"
      ],
      "metadata": {
        "colab": {
          "base_uri": "https://localhost:8080/"
        },
        "id": "kZUJaXUYwqR0",
        "outputId": "f444091e-d495-4bfc-fd09-15a78f8e3c77"
      },
      "execution_count": 127,
      "outputs": [
        {
          "output_type": "stream",
          "name": "stdout",
          "text": [
            "0.9898267803134452\n"
          ]
        }
      ]
    },
    {
      "cell_type": "markdown",
      "source": [
        "MSE:"
      ],
      "metadata": {
        "id": "6j_4Pdy92xAO"
      }
    },
    {
      "cell_type": "code",
      "source": [
        "mean_squared_error(y_test, predRF)"
      ],
      "metadata": {
        "colab": {
          "base_uri": "https://localhost:8080/"
        },
        "id": "Y46BVFoN2yga",
        "outputId": "f9aa4fa5-d011-47a6-cabb-5e79f5d54a12"
      },
      "execution_count": 139,
      "outputs": [
        {
          "output_type": "execute_result",
          "data": {
            "text/plain": [
              "0.010173219686554854"
            ]
          },
          "metadata": {},
          "execution_count": 139
        }
      ]
    },
    {
      "cell_type": "markdown",
      "source": [
        "RECALL:"
      ],
      "metadata": {
        "id": "Ck1PKw593RBu"
      }
    },
    {
      "cell_type": "code",
      "source": [
        "recall(y_test, predRF)"
      ],
      "metadata": {
        "colab": {
          "base_uri": "https://localhost:8080/"
        },
        "id": "mHKY00GK3K1K",
        "outputId": "09e99df1-e6eb-4294-911b-27fc4a33dff3"
      },
      "execution_count": 140,
      "outputs": [
        {
          "output_type": "execute_result",
          "data": {
            "text/plain": [
              "(array([0.98956415, 0.99003984]),\n",
              " array([0.9877451, 0.9915212]),\n",
              " array([0.98865379, 0.99077997]),\n",
              " array([1632, 2005]))"
            ]
          },
          "metadata": {},
          "execution_count": 140
        }
      ]
    }
  ]
}